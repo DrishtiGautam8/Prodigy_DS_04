{
  "nbformat": 4,
  "nbformat_minor": 0,
  "metadata": {
    "colab": {
      "provenance": []
    },
    "kernelspec": {
      "name": "python3",
      "display_name": "Python 3"
    },
    "language_info": {
      "name": "python"
    }
  },
  "cells": [
    {
      "cell_type": "markdown",
      "source": [
        "Task 4: Analyze and visualize sentiment patterns in social media data to understand public opinion and attitudes towards specific topics or brands."
      ],
      "metadata": {
        "id": "9I1t_SFYUKNX"
      }
    },
    {
      "cell_type": "markdown",
      "source": [
        "Assumptions based on the Task 4 that I am making here is:\n",
        "\n",
        "(i.) task is to analyse and visualize 'sentiment' only for the specific brand (i.e. Game in the CSV), So, I will not be dropping null/empty 'tweet_content' as they still contain notnull sentiments which will help in overall analysis of user preferences."
      ],
      "metadata": {
        "id": "-BJacM5HUX6S"
      }
    },
    {
      "cell_type": "code",
      "execution_count": null,
      "metadata": {
        "id": "y2KLNL6qKEKA"
      },
      "outputs": [],
      "source": [
        "import pandas as pd\n",
        "import numpy as np\n",
        "from sklearn.metrics import classification_report, accuracy_score, confusion_matrix\n",
        "import matplotlib.pyplot as plt\n",
        "import seaborn as sns\n",
        "from sklearn.model_selection import train_test_split\n",
        "from sklearn.feature_extraction.text import TfidfVectorizer\n",
        "from sklearn.linear_model import LogisticRegression\n",
        "import spacy"
      ]
    },
    {
      "cell_type": "code",
      "source": [
        "nlp = spacy.load(\"en_core_web_sm\")"
      ],
      "metadata": {
        "id": "uhVhKNApYJFP"
      },
      "execution_count": null,
      "outputs": []
    },
    {
      "cell_type": "code",
      "source": [
        "# Load datasets\n",
        "train_df = pd.read_csv('twitter_training.csv')\n",
        "val_df = pd.read_csv('twitter_validation.csv')"
      ],
      "metadata": {
        "id": "MOUK1h3vKRtu"
      },
      "execution_count": null,
      "outputs": []
    },
    {
      "cell_type": "code",
      "source": [
        "see_train = train_df.head(3)\n",
        "see_val = val_df.head(3)\n",
        "see_train, see_val"
      ],
      "metadata": {
        "colab": {
          "base_uri": "https://localhost:8080/"
        },
        "id": "dglHbocoLAGw",
        "outputId": "f21c75fb-bf25-4a6f-9162-3217f0e1fcdb"
      },
      "execution_count": null,
      "outputs": [
        {
          "output_type": "execute_result",
          "data": {
            "text/plain": [
              "(   Tweet_ID       entity sentiment  \\\n",
              " 0      2401  Borderlands  Positive   \n",
              " 1      2401  Borderlands  Positive   \n",
              " 2      2401  Borderlands  Positive   \n",
              " \n",
              "                                        tweet_content  \n",
              " 0  im getting on borderlands and i will murder yo...  \n",
              " 1  I am coming to the borders and I will kill you...  \n",
              " 2  im getting on borderlands and i will kill you ...  ,\n",
              "    Tweet_ID     entity   sentiment  \\\n",
              " 0      3364   Facebook  Irrelevant   \n",
              " 1       352     Amazon     Neutral   \n",
              " 2      8312  Microsoft    Negative   \n",
              " \n",
              "                                        tweet_content  \n",
              " 0  I mentioned on Facebook that I was struggling ...  \n",
              " 1  BBC News - Amazon boss Jeff Bezos rejects clai...  \n",
              " 2  @Microsoft Why do I pay for WORD when it funct...  )"
            ]
          },
          "metadata": {},
          "execution_count": 13
        }
      ]
    },
    {
      "cell_type": "code",
      "source": [
        "train_df.columns"
      ],
      "metadata": {
        "colab": {
          "base_uri": "https://localhost:8080/"
        },
        "id": "FYaXHLzSMCrM",
        "outputId": "bf70a50e-cc5c-4d82-82ac-6cbfa9b52295"
      },
      "execution_count": null,
      "outputs": [
        {
          "output_type": "execute_result",
          "data": {
            "text/plain": [
              "Index(['Tweet_ID', 'entity', 'sentiment', 'tweet_content'], dtype='object')"
            ]
          },
          "metadata": {},
          "execution_count": 31
        }
      ]
    },
    {
      "cell_type": "code",
      "source": [
        "train_df = train_df.drop(columns=['Tweet_ID'])\n",
        "val_df = val_df.drop(columns=['Tweet_ID'])"
      ],
      "metadata": {
        "id": "NM_MNj3MbhSQ"
      },
      "execution_count": null,
      "outputs": []
    },
    {
      "cell_type": "code",
      "source": [
        "train_null = train_df.isnull().sum()\n",
        "train_unique = train_df.nunique()\n",
        "# In validation set\n",
        "val_null = val_df.isnull().sum()\n",
        "val_unique = val_df.nunique()\n",
        "print(\"training set:\")\n",
        "print(\"train_null: \", train_null, \"\\ntrain_unique: \", train_unique)\n",
        "\n",
        "print(\"\\n\\nValidation set:\")\n",
        "print(\"val_null: \", val_null, \"\\nval_unique: \", val_unique)\n"
      ],
      "metadata": {
        "colab": {
          "base_uri": "https://localhost:8080/"
        },
        "id": "oxHcbRqmRQUf",
        "outputId": "a701f83a-9454-4f1c-dc2a-72522e0208d7"
      },
      "execution_count": null,
      "outputs": [
        {
          "output_type": "stream",
          "name": "stdout",
          "text": [
            "training set:\n",
            "train_null:  entity             0\n",
            "sentiment          0\n",
            "tweet_content    686\n",
            "dtype: int64 \n",
            "train_unique:  entity              32\n",
            "sentiment            4\n",
            "tweet_content    69489\n",
            "dtype: int64\n",
            "\n",
            "\n",
            "Validation set:\n",
            "val_null:  entity           0\n",
            "sentiment        0\n",
            "tweet_content    0\n",
            "dtype: int64 \n",
            "val_unique:  entity            32\n",
            "sentiment          4\n",
            "tweet_content    999\n",
            "dtype: int64\n"
          ]
        }
      ]
    },
    {
      "cell_type": "code",
      "source": [
        "print(\"tweet_content Dtype:\", train_df['tweet_content'].dtype)\n",
        "print(\"tweet_content Dtype:\", val_df['tweet_content'].dtype)"
      ],
      "metadata": {
        "colab": {
          "base_uri": "https://localhost:8080/"
        },
        "id": "LG553L5zV3KA",
        "outputId": "e6ca4b47-acf8-45f7-ec7c-01c25a26d207"
      },
      "execution_count": null,
      "outputs": [
        {
          "output_type": "stream",
          "name": "stdout",
          "text": [
            "tweet_content Dtype: object\n",
            "tweet_content Dtype: object\n"
          ]
        }
      ]
    },
    {
      "cell_type": "code",
      "source": [
        "train_df['tweet_content'] = train_df['tweet_content'].astype('string')\n",
        "val_df['tweet_content'] = val_df['tweet_content'].astype('string')"
      ],
      "metadata": {
        "id": "XQ4LLu8NZNE4"
      },
      "execution_count": null,
      "outputs": []
    },
    {
      "cell_type": "code",
      "source": [
        "print(train_df['tweet_content'].apply(type).head())"
      ],
      "metadata": {
        "colab": {
          "base_uri": "https://localhost:8080/"
        },
        "id": "1uYWT2AVqI16",
        "outputId": "bca2f690-73fd-4655-efdd-0bbfc7a58de0"
      },
      "execution_count": null,
      "outputs": [
        {
          "output_type": "stream",
          "name": "stdout",
          "text": [
            "0    <class 'str'>\n",
            "1    <class 'str'>\n",
            "2    <class 'str'>\n",
            "3    <class 'str'>\n",
            "4    <class 'str'>\n",
            "Name: tweet_content, dtype: object\n"
          ]
        }
      ]
    },
    {
      "cell_type": "code",
      "source": [
        "# Using nlp.pipe for faster processing\n",
        "train_df['tokenized_tweet'] = list(nlp.pipe(train_df['tweet_content'].fillna(\"No Comment\").astype(str), batch_size=1000))\n",
        "val_df['tokenized_tweet'] = list(nlp.pipe(val_df['tweet_content'].fillna(\"No Comment\").astype(str), batch_size=1000))"
      ],
      "metadata": {
        "id": "Ry-RjwP2WIyM"
      },
      "execution_count": null,
      "outputs": []
    },
    {
      "cell_type": "code",
      "source": [
        "# Process data\n",
        "X = train_df[['entity','tweet_content']]\n",
        "y = train_df['sentiment'].map({'Positive': 1, 'Neutral': 0, 'Negative': -1, 'Irrelevant': 2})  # Encode sentiment"
      ],
      "metadata": {
        "id": "jdqMlkoWKQrU"
      },
      "execution_count": null,
      "outputs": []
    },
    {
      "cell_type": "code",
      "source": [
        "# Applying TF-IDF Vectorizer\n",
        "vectorizer = TfidfVectorizer(max_features=9000)\n",
        "X_train_tfidf = vectorizer.fit_transform(train_df['tweet_content'])\n",
        "X_valid_tfidf = vectorizer.transform(val_df['tweet_content'])"
      ],
      "metadata": {
        "id": "vTaOPowRlxnJ"
      },
      "execution_count": null,
      "outputs": []
    },
    {
      "cell_type": "code",
      "source": [
        "#Train Test Split\n",
        "X_train_tfidf, X_valid_tfidf, y_train, y_valid = train_test_split(X_train_tfidf,\n",
        "                                                                  train_df['sentiment'].map({'Positive': 1, 'Neutral': 0, 'Negative': -1, 'Irrelevant': 2}),\n",
        "                                                                  test_size=0.2, random_state=42)\n"
      ],
      "metadata": {
        "id": "r-ahbjbEjQB_"
      },
      "execution_count": null,
      "outputs": []
    },
    {
      "cell_type": "code",
      "source": [
        "# Checking if number of rows match\n",
        "print(X_train_tfidf.shape)\n",
        "print(y_train.shape)\n"
      ],
      "metadata": {
        "colab": {
          "base_uri": "https://localhost:8080/"
        },
        "id": "th_39cWQnKa4",
        "outputId": "9a21ed73-e045-4fd9-ea23-a5d8ac939ba7"
      },
      "execution_count": null,
      "outputs": [
        {
          "output_type": "stream",
          "name": "stdout",
          "text": [
            "(59745, 9000)\n",
            "(59745,)\n"
          ]
        }
      ]
    },
    {
      "cell_type": "code",
      "source": [
        "print(train_df.isnull().sum())  # Checking for missing values in the original dataset\n"
      ],
      "metadata": {
        "colab": {
          "base_uri": "https://localhost:8080/"
        },
        "id": "OBXRLBrNnTWB",
        "outputId": "19e5e671-544c-4143-adb9-3153729c4eca"
      },
      "execution_count": null,
      "outputs": [
        {
          "output_type": "stream",
          "name": "stdout",
          "text": [
            "entity             0\n",
            "sentiment          0\n",
            "tweet_content      0\n",
            "tokenized_tweet    0\n",
            "dtype: int64\n"
          ]
        }
      ]
    },
    {
      "cell_type": "code",
      "source": [
        "# Logistic Regression model\n",
        "lr_model = LogisticRegression(max_iter=1000, random_state=42)\n",
        "# Model Training\n",
        "lr_model.fit(X_train_tfidf, y_train)"
      ],
      "metadata": {
        "colab": {
          "base_uri": "https://localhost:8080/",
          "height": 80
        },
        "id": "V38bHaBblKn5",
        "outputId": "0aa91e5b-a853-49b4-b4f4-564678c4fc4f"
      },
      "execution_count": null,
      "outputs": [
        {
          "output_type": "execute_result",
          "data": {
            "text/plain": [
              "LogisticRegression(max_iter=1000, random_state=42)"
            ],
            "text/html": [
              "<style>#sk-container-id-2 {\n",
              "  /* Definition of color scheme common for light and dark mode */\n",
              "  --sklearn-color-text: #000;\n",
              "  --sklearn-color-text-muted: #666;\n",
              "  --sklearn-color-line: gray;\n",
              "  /* Definition of color scheme for unfitted estimators */\n",
              "  --sklearn-color-unfitted-level-0: #fff5e6;\n",
              "  --sklearn-color-unfitted-level-1: #f6e4d2;\n",
              "  --sklearn-color-unfitted-level-2: #ffe0b3;\n",
              "  --sklearn-color-unfitted-level-3: chocolate;\n",
              "  /* Definition of color scheme for fitted estimators */\n",
              "  --sklearn-color-fitted-level-0: #f0f8ff;\n",
              "  --sklearn-color-fitted-level-1: #d4ebff;\n",
              "  --sklearn-color-fitted-level-2: #b3dbfd;\n",
              "  --sklearn-color-fitted-level-3: cornflowerblue;\n",
              "\n",
              "  /* Specific color for light theme */\n",
              "  --sklearn-color-text-on-default-background: var(--sg-text-color, var(--theme-code-foreground, var(--jp-content-font-color1, black)));\n",
              "  --sklearn-color-background: var(--sg-background-color, var(--theme-background, var(--jp-layout-color0, white)));\n",
              "  --sklearn-color-border-box: var(--sg-text-color, var(--theme-code-foreground, var(--jp-content-font-color1, black)));\n",
              "  --sklearn-color-icon: #696969;\n",
              "\n",
              "  @media (prefers-color-scheme: dark) {\n",
              "    /* Redefinition of color scheme for dark theme */\n",
              "    --sklearn-color-text-on-default-background: var(--sg-text-color, var(--theme-code-foreground, var(--jp-content-font-color1, white)));\n",
              "    --sklearn-color-background: var(--sg-background-color, var(--theme-background, var(--jp-layout-color0, #111)));\n",
              "    --sklearn-color-border-box: var(--sg-text-color, var(--theme-code-foreground, var(--jp-content-font-color1, white)));\n",
              "    --sklearn-color-icon: #878787;\n",
              "  }\n",
              "}\n",
              "\n",
              "#sk-container-id-2 {\n",
              "  color: var(--sklearn-color-text);\n",
              "}\n",
              "\n",
              "#sk-container-id-2 pre {\n",
              "  padding: 0;\n",
              "}\n",
              "\n",
              "#sk-container-id-2 input.sk-hidden--visually {\n",
              "  border: 0;\n",
              "  clip: rect(1px 1px 1px 1px);\n",
              "  clip: rect(1px, 1px, 1px, 1px);\n",
              "  height: 1px;\n",
              "  margin: -1px;\n",
              "  overflow: hidden;\n",
              "  padding: 0;\n",
              "  position: absolute;\n",
              "  width: 1px;\n",
              "}\n",
              "\n",
              "#sk-container-id-2 div.sk-dashed-wrapped {\n",
              "  border: 1px dashed var(--sklearn-color-line);\n",
              "  margin: 0 0.4em 0.5em 0.4em;\n",
              "  box-sizing: border-box;\n",
              "  padding-bottom: 0.4em;\n",
              "  background-color: var(--sklearn-color-background);\n",
              "}\n",
              "\n",
              "#sk-container-id-2 div.sk-container {\n",
              "  /* jupyter's `normalize.less` sets `[hidden] { display: none; }`\n",
              "     but bootstrap.min.css set `[hidden] { display: none !important; }`\n",
              "     so we also need the `!important` here to be able to override the\n",
              "     default hidden behavior on the sphinx rendered scikit-learn.org.\n",
              "     See: https://github.com/scikit-learn/scikit-learn/issues/21755 */\n",
              "  display: inline-block !important;\n",
              "  position: relative;\n",
              "}\n",
              "\n",
              "#sk-container-id-2 div.sk-text-repr-fallback {\n",
              "  display: none;\n",
              "}\n",
              "\n",
              "div.sk-parallel-item,\n",
              "div.sk-serial,\n",
              "div.sk-item {\n",
              "  /* draw centered vertical line to link estimators */\n",
              "  background-image: linear-gradient(var(--sklearn-color-text-on-default-background), var(--sklearn-color-text-on-default-background));\n",
              "  background-size: 2px 100%;\n",
              "  background-repeat: no-repeat;\n",
              "  background-position: center center;\n",
              "}\n",
              "\n",
              "/* Parallel-specific style estimator block */\n",
              "\n",
              "#sk-container-id-2 div.sk-parallel-item::after {\n",
              "  content: \"\";\n",
              "  width: 100%;\n",
              "  border-bottom: 2px solid var(--sklearn-color-text-on-default-background);\n",
              "  flex-grow: 1;\n",
              "}\n",
              "\n",
              "#sk-container-id-2 div.sk-parallel {\n",
              "  display: flex;\n",
              "  align-items: stretch;\n",
              "  justify-content: center;\n",
              "  background-color: var(--sklearn-color-background);\n",
              "  position: relative;\n",
              "}\n",
              "\n",
              "#sk-container-id-2 div.sk-parallel-item {\n",
              "  display: flex;\n",
              "  flex-direction: column;\n",
              "}\n",
              "\n",
              "#sk-container-id-2 div.sk-parallel-item:first-child::after {\n",
              "  align-self: flex-end;\n",
              "  width: 50%;\n",
              "}\n",
              "\n",
              "#sk-container-id-2 div.sk-parallel-item:last-child::after {\n",
              "  align-self: flex-start;\n",
              "  width: 50%;\n",
              "}\n",
              "\n",
              "#sk-container-id-2 div.sk-parallel-item:only-child::after {\n",
              "  width: 0;\n",
              "}\n",
              "\n",
              "/* Serial-specific style estimator block */\n",
              "\n",
              "#sk-container-id-2 div.sk-serial {\n",
              "  display: flex;\n",
              "  flex-direction: column;\n",
              "  align-items: center;\n",
              "  background-color: var(--sklearn-color-background);\n",
              "  padding-right: 1em;\n",
              "  padding-left: 1em;\n",
              "}\n",
              "\n",
              "\n",
              "/* Toggleable style: style used for estimator/Pipeline/ColumnTransformer box that is\n",
              "clickable and can be expanded/collapsed.\n",
              "- Pipeline and ColumnTransformer use this feature and define the default style\n",
              "- Estimators will overwrite some part of the style using the `sk-estimator` class\n",
              "*/\n",
              "\n",
              "/* Pipeline and ColumnTransformer style (default) */\n",
              "\n",
              "#sk-container-id-2 div.sk-toggleable {\n",
              "  /* Default theme specific background. It is overwritten whether we have a\n",
              "  specific estimator or a Pipeline/ColumnTransformer */\n",
              "  background-color: var(--sklearn-color-background);\n",
              "}\n",
              "\n",
              "/* Toggleable label */\n",
              "#sk-container-id-2 label.sk-toggleable__label {\n",
              "  cursor: pointer;\n",
              "  display: flex;\n",
              "  width: 100%;\n",
              "  margin-bottom: 0;\n",
              "  padding: 0.5em;\n",
              "  box-sizing: border-box;\n",
              "  text-align: center;\n",
              "  align-items: start;\n",
              "  justify-content: space-between;\n",
              "  gap: 0.5em;\n",
              "}\n",
              "\n",
              "#sk-container-id-2 label.sk-toggleable__label .caption {\n",
              "  font-size: 0.6rem;\n",
              "  font-weight: lighter;\n",
              "  color: var(--sklearn-color-text-muted);\n",
              "}\n",
              "\n",
              "#sk-container-id-2 label.sk-toggleable__label-arrow:before {\n",
              "  /* Arrow on the left of the label */\n",
              "  content: \"▸\";\n",
              "  float: left;\n",
              "  margin-right: 0.25em;\n",
              "  color: var(--sklearn-color-icon);\n",
              "}\n",
              "\n",
              "#sk-container-id-2 label.sk-toggleable__label-arrow:hover:before {\n",
              "  color: var(--sklearn-color-text);\n",
              "}\n",
              "\n",
              "/* Toggleable content - dropdown */\n",
              "\n",
              "#sk-container-id-2 div.sk-toggleable__content {\n",
              "  max-height: 0;\n",
              "  max-width: 0;\n",
              "  overflow: hidden;\n",
              "  text-align: left;\n",
              "  /* unfitted */\n",
              "  background-color: var(--sklearn-color-unfitted-level-0);\n",
              "}\n",
              "\n",
              "#sk-container-id-2 div.sk-toggleable__content.fitted {\n",
              "  /* fitted */\n",
              "  background-color: var(--sklearn-color-fitted-level-0);\n",
              "}\n",
              "\n",
              "#sk-container-id-2 div.sk-toggleable__content pre {\n",
              "  margin: 0.2em;\n",
              "  border-radius: 0.25em;\n",
              "  color: var(--sklearn-color-text);\n",
              "  /* unfitted */\n",
              "  background-color: var(--sklearn-color-unfitted-level-0);\n",
              "}\n",
              "\n",
              "#sk-container-id-2 div.sk-toggleable__content.fitted pre {\n",
              "  /* unfitted */\n",
              "  background-color: var(--sklearn-color-fitted-level-0);\n",
              "}\n",
              "\n",
              "#sk-container-id-2 input.sk-toggleable__control:checked~div.sk-toggleable__content {\n",
              "  /* Expand drop-down */\n",
              "  max-height: 200px;\n",
              "  max-width: 100%;\n",
              "  overflow: auto;\n",
              "}\n",
              "\n",
              "#sk-container-id-2 input.sk-toggleable__control:checked~label.sk-toggleable__label-arrow:before {\n",
              "  content: \"▾\";\n",
              "}\n",
              "\n",
              "/* Pipeline/ColumnTransformer-specific style */\n",
              "\n",
              "#sk-container-id-2 div.sk-label input.sk-toggleable__control:checked~label.sk-toggleable__label {\n",
              "  color: var(--sklearn-color-text);\n",
              "  background-color: var(--sklearn-color-unfitted-level-2);\n",
              "}\n",
              "\n",
              "#sk-container-id-2 div.sk-label.fitted input.sk-toggleable__control:checked~label.sk-toggleable__label {\n",
              "  background-color: var(--sklearn-color-fitted-level-2);\n",
              "}\n",
              "\n",
              "/* Estimator-specific style */\n",
              "\n",
              "/* Colorize estimator box */\n",
              "#sk-container-id-2 div.sk-estimator input.sk-toggleable__control:checked~label.sk-toggleable__label {\n",
              "  /* unfitted */\n",
              "  background-color: var(--sklearn-color-unfitted-level-2);\n",
              "}\n",
              "\n",
              "#sk-container-id-2 div.sk-estimator.fitted input.sk-toggleable__control:checked~label.sk-toggleable__label {\n",
              "  /* fitted */\n",
              "  background-color: var(--sklearn-color-fitted-level-2);\n",
              "}\n",
              "\n",
              "#sk-container-id-2 div.sk-label label.sk-toggleable__label,\n",
              "#sk-container-id-2 div.sk-label label {\n",
              "  /* The background is the default theme color */\n",
              "  color: var(--sklearn-color-text-on-default-background);\n",
              "}\n",
              "\n",
              "/* On hover, darken the color of the background */\n",
              "#sk-container-id-2 div.sk-label:hover label.sk-toggleable__label {\n",
              "  color: var(--sklearn-color-text);\n",
              "  background-color: var(--sklearn-color-unfitted-level-2);\n",
              "}\n",
              "\n",
              "/* Label box, darken color on hover, fitted */\n",
              "#sk-container-id-2 div.sk-label.fitted:hover label.sk-toggleable__label.fitted {\n",
              "  color: var(--sklearn-color-text);\n",
              "  background-color: var(--sklearn-color-fitted-level-2);\n",
              "}\n",
              "\n",
              "/* Estimator label */\n",
              "\n",
              "#sk-container-id-2 div.sk-label label {\n",
              "  font-family: monospace;\n",
              "  font-weight: bold;\n",
              "  display: inline-block;\n",
              "  line-height: 1.2em;\n",
              "}\n",
              "\n",
              "#sk-container-id-2 div.sk-label-container {\n",
              "  text-align: center;\n",
              "}\n",
              "\n",
              "/* Estimator-specific */\n",
              "#sk-container-id-2 div.sk-estimator {\n",
              "  font-family: monospace;\n",
              "  border: 1px dotted var(--sklearn-color-border-box);\n",
              "  border-radius: 0.25em;\n",
              "  box-sizing: border-box;\n",
              "  margin-bottom: 0.5em;\n",
              "  /* unfitted */\n",
              "  background-color: var(--sklearn-color-unfitted-level-0);\n",
              "}\n",
              "\n",
              "#sk-container-id-2 div.sk-estimator.fitted {\n",
              "  /* fitted */\n",
              "  background-color: var(--sklearn-color-fitted-level-0);\n",
              "}\n",
              "\n",
              "/* on hover */\n",
              "#sk-container-id-2 div.sk-estimator:hover {\n",
              "  /* unfitted */\n",
              "  background-color: var(--sklearn-color-unfitted-level-2);\n",
              "}\n",
              "\n",
              "#sk-container-id-2 div.sk-estimator.fitted:hover {\n",
              "  /* fitted */\n",
              "  background-color: var(--sklearn-color-fitted-level-2);\n",
              "}\n",
              "\n",
              "/* Specification for estimator info (e.g. \"i\" and \"?\") */\n",
              "\n",
              "/* Common style for \"i\" and \"?\" */\n",
              "\n",
              ".sk-estimator-doc-link,\n",
              "a:link.sk-estimator-doc-link,\n",
              "a:visited.sk-estimator-doc-link {\n",
              "  float: right;\n",
              "  font-size: smaller;\n",
              "  line-height: 1em;\n",
              "  font-family: monospace;\n",
              "  background-color: var(--sklearn-color-background);\n",
              "  border-radius: 1em;\n",
              "  height: 1em;\n",
              "  width: 1em;\n",
              "  text-decoration: none !important;\n",
              "  margin-left: 0.5em;\n",
              "  text-align: center;\n",
              "  /* unfitted */\n",
              "  border: var(--sklearn-color-unfitted-level-1) 1pt solid;\n",
              "  color: var(--sklearn-color-unfitted-level-1);\n",
              "}\n",
              "\n",
              ".sk-estimator-doc-link.fitted,\n",
              "a:link.sk-estimator-doc-link.fitted,\n",
              "a:visited.sk-estimator-doc-link.fitted {\n",
              "  /* fitted */\n",
              "  border: var(--sklearn-color-fitted-level-1) 1pt solid;\n",
              "  color: var(--sklearn-color-fitted-level-1);\n",
              "}\n",
              "\n",
              "/* On hover */\n",
              "div.sk-estimator:hover .sk-estimator-doc-link:hover,\n",
              ".sk-estimator-doc-link:hover,\n",
              "div.sk-label-container:hover .sk-estimator-doc-link:hover,\n",
              ".sk-estimator-doc-link:hover {\n",
              "  /* unfitted */\n",
              "  background-color: var(--sklearn-color-unfitted-level-3);\n",
              "  color: var(--sklearn-color-background);\n",
              "  text-decoration: none;\n",
              "}\n",
              "\n",
              "div.sk-estimator.fitted:hover .sk-estimator-doc-link.fitted:hover,\n",
              ".sk-estimator-doc-link.fitted:hover,\n",
              "div.sk-label-container:hover .sk-estimator-doc-link.fitted:hover,\n",
              ".sk-estimator-doc-link.fitted:hover {\n",
              "  /* fitted */\n",
              "  background-color: var(--sklearn-color-fitted-level-3);\n",
              "  color: var(--sklearn-color-background);\n",
              "  text-decoration: none;\n",
              "}\n",
              "\n",
              "/* Span, style for the box shown on hovering the info icon */\n",
              ".sk-estimator-doc-link span {\n",
              "  display: none;\n",
              "  z-index: 9999;\n",
              "  position: relative;\n",
              "  font-weight: normal;\n",
              "  right: .2ex;\n",
              "  padding: .5ex;\n",
              "  margin: .5ex;\n",
              "  width: min-content;\n",
              "  min-width: 20ex;\n",
              "  max-width: 50ex;\n",
              "  color: var(--sklearn-color-text);\n",
              "  box-shadow: 2pt 2pt 4pt #999;\n",
              "  /* unfitted */\n",
              "  background: var(--sklearn-color-unfitted-level-0);\n",
              "  border: .5pt solid var(--sklearn-color-unfitted-level-3);\n",
              "}\n",
              "\n",
              ".sk-estimator-doc-link.fitted span {\n",
              "  /* fitted */\n",
              "  background: var(--sklearn-color-fitted-level-0);\n",
              "  border: var(--sklearn-color-fitted-level-3);\n",
              "}\n",
              "\n",
              ".sk-estimator-doc-link:hover span {\n",
              "  display: block;\n",
              "}\n",
              "\n",
              "/* \"?\"-specific style due to the `<a>` HTML tag */\n",
              "\n",
              "#sk-container-id-2 a.estimator_doc_link {\n",
              "  float: right;\n",
              "  font-size: 1rem;\n",
              "  line-height: 1em;\n",
              "  font-family: monospace;\n",
              "  background-color: var(--sklearn-color-background);\n",
              "  border-radius: 1rem;\n",
              "  height: 1rem;\n",
              "  width: 1rem;\n",
              "  text-decoration: none;\n",
              "  /* unfitted */\n",
              "  color: var(--sklearn-color-unfitted-level-1);\n",
              "  border: var(--sklearn-color-unfitted-level-1) 1pt solid;\n",
              "}\n",
              "\n",
              "#sk-container-id-2 a.estimator_doc_link.fitted {\n",
              "  /* fitted */\n",
              "  border: var(--sklearn-color-fitted-level-1) 1pt solid;\n",
              "  color: var(--sklearn-color-fitted-level-1);\n",
              "}\n",
              "\n",
              "/* On hover */\n",
              "#sk-container-id-2 a.estimator_doc_link:hover {\n",
              "  /* unfitted */\n",
              "  background-color: var(--sklearn-color-unfitted-level-3);\n",
              "  color: var(--sklearn-color-background);\n",
              "  text-decoration: none;\n",
              "}\n",
              "\n",
              "#sk-container-id-2 a.estimator_doc_link.fitted:hover {\n",
              "  /* fitted */\n",
              "  background-color: var(--sklearn-color-fitted-level-3);\n",
              "}\n",
              "</style><div id=\"sk-container-id-2\" class=\"sk-top-container\"><div class=\"sk-text-repr-fallback\"><pre>LogisticRegression(max_iter=1000, random_state=42)</pre><b>In a Jupyter environment, please rerun this cell to show the HTML representation or trust the notebook. <br />On GitHub, the HTML representation is unable to render, please try loading this page with nbviewer.org.</b></div><div class=\"sk-container\" hidden><div class=\"sk-item\"><div class=\"sk-estimator fitted sk-toggleable\"><input class=\"sk-toggleable__control sk-hidden--visually\" id=\"sk-estimator-id-2\" type=\"checkbox\" checked><label for=\"sk-estimator-id-2\" class=\"sk-toggleable__label fitted sk-toggleable__label-arrow\"><div><div>LogisticRegression</div></div><div><a class=\"sk-estimator-doc-link fitted\" rel=\"noreferrer\" target=\"_blank\" href=\"https://scikit-learn.org/1.6/modules/generated/sklearn.linear_model.LogisticRegression.html\">?<span>Documentation for LogisticRegression</span></a><span class=\"sk-estimator-doc-link fitted\">i<span>Fitted</span></span></div></label><div class=\"sk-toggleable__content fitted\"><pre>LogisticRegression(max_iter=1000, random_state=42)</pre></div> </div></div></div></div>"
            ]
          },
          "metadata": {},
          "execution_count": 107
        }
      ]
    },
    {
      "cell_type": "code",
      "source": [
        "# Predict on the validation set\n",
        "y_pred = lr_model.predict(X_valid_tfidf)"
      ],
      "metadata": {
        "id": "LBSFIcx0smAv"
      },
      "execution_count": null,
      "outputs": []
    },
    {
      "cell_type": "code",
      "source": [
        "# Evaluate the model\n",
        "print(\"Accuracy: \", accuracy_score(y_valid, y_pred))\n",
        "print(\"Classification Report:\\n\", classification_report(y_valid, y_pred))"
      ],
      "metadata": {
        "colab": {
          "base_uri": "https://localhost:8080/"
        },
        "id": "Okwk5BBRsnfZ",
        "outputId": "4798588c-fc93-4145-ae64-f38b46a82f5f"
      },
      "execution_count": null,
      "outputs": [
        {
          "output_type": "stream",
          "name": "stdout",
          "text": [
            "Accuracy:  0.7336145142933654\n",
            "Classification Report:\n",
            "               precision    recall  f1-score   support\n",
            "\n",
            "          -1       0.76      0.82      0.79      4519\n",
            "           0       0.70      0.70      0.70      3596\n",
            "           1       0.73      0.77      0.75      4230\n",
            "           2       0.73      0.58      0.65      2592\n",
            "\n",
            "    accuracy                           0.73     14937\n",
            "   macro avg       0.73      0.72      0.72     14937\n",
            "weighted avg       0.73      0.73      0.73     14937\n",
            "\n"
          ]
        }
      ]
    },
    {
      "cell_type": "code",
      "source": [
        "# Confusion Matrix Visualization\n",
        "conf_matrix = confusion_matrix(y_valid, y_pred)\n",
        "plt.figure(figsize=(6, 4))\n",
        "sns.heatmap(conf_matrix, annot=True, fmt='d', cmap='Blues', xticklabels=['Negative', 'Neutral', 'Positive', 'Irrelevant'], yticklabels=['Negative', 'Neutral', 'Positive', 'Irrelevant'])\n",
        "plt.xlabel('Predicted')\n",
        "plt.ylabel('Actual')\n",
        "plt.title('Confusion Matrix')\n",
        "plt.show()"
      ],
      "metadata": {
        "colab": {
          "base_uri": "https://localhost:8080/",
          "height": 410
        },
        "id": "J8RY19HGsuV6",
        "outputId": "f55fff17-6469-4b30-e24c-3068599722c7"
      },
      "execution_count": null,
      "outputs": [
        {
          "output_type": "display_data",
          "data": {
            "text/plain": [
              "<Figure size 600x400 with 2 Axes>"
            ],
            "image/png": "[encoded data removed]"
          },
          "metadata": {}
        }
      ]
    },
    {
      "cell_type": "code",
      "source": [
        "# Get the coefficients and feature names\n",
        "coefficients = lr_model.coef_[0]\n",
        "feature_names = vectorizer.get_feature_names_out()\n",
        "\n",
        "# Sort the coefficients to see the most important features (words)\n",
        "sorted_idx = coefficients.argsort()\n",
        "\n",
        "# Top 10 positive and negative words\n",
        "top_positive_words = [feature_names[i] for i in sorted_idx[-10:]]\n",
        "top_negative_words = [feature_names[i] for i in sorted_idx[:10]]\n",
        "\n",
        "# Plot the coefficients (positive and negative words)\n",
        "plt.figure(figsize=(10, 5))\n",
        "plt.barh(top_positive_words, coefficients[sorted_idx[-10:]], color='green', label='Positive')\n",
        "plt.barh(top_negative_words, coefficients[sorted_idx[:10]], color='red', label='Negative')\n",
        "plt.xlabel('Coefficient Value')\n",
        "plt.title('Top Positive and Negative Words in Sentiment')\n",
        "plt.show()\n"
      ],
      "metadata": {
        "colab": {
          "base_uri": "https://localhost:8080/",
          "height": 430
        },
        "id": "JHFMwVXivEuX",
        "outputId": "5219f520-15a8-4682-8f34-999f927ac4a3"
      },
      "execution_count": null,
      "outputs": [
        {
          "output_type": "display_data",
          "data": {
            "text/plain": [
              "<Figure size 1000x500 with 1 Axes>"
            ],
            "image/png": "[encoded data removed]"
          },
          "metadata": {}
        }
      ]
    },
    {
      "cell_type": "code",
      "source": [
        "#Hyperparameter tuning using GridSearchCV although it have been done earlier, but is used afterwards to show the changes and contrast.\n",
        "from sklearn.model_selection import GridSearchCV\n",
        "\n",
        "# parameter grid\n",
        "param_grid = {\n",
        "    'C': [0.01, 0.1, 1, 10, 100],  # regularization\n",
        "    'solver': ['liblinear', 'saga']\n",
        "}\n",
        "\n",
        "grid_search = GridSearchCV(LogisticRegression(max_iter=1000), param_grid, cv=5, scoring='accuracy')\n",
        "\n",
        "grid_search.fit(X_train_tfidf, y_train)\n",
        "print(\"Best parameters:\", grid_search.best_params_)\n"
      ],
      "metadata": {
        "colab": {
          "base_uri": "https://localhost:8080/"
        },
        "id": "eVtUtoLQjkP4",
        "outputId": "1a93ea0f-0fb1-4133-b389-6e1fbcaeb0ba"
      },
      "execution_count": null,
      "outputs": [
        {
          "output_type": "stream",
          "name": "stdout",
          "text": [
            "Best parameters: {'C': 100, 'solver': 'liblinear'}\n"
          ]
        }
      ]
    },
    {
      "cell_type": "code",
      "source": [
        "# Retrain the model using the best hyperparameters\n",
        "best_lr_model = grid_search.best_estimator_\n",
        "\n",
        "# Predict using the best model\n",
        "y_pred_best = best_lr_model.predict(X_valid_tfidf)\n",
        "\n",
        "print(\"Accuracy with best parameters: \", accuracy_score(y_valid, y_pred_best))\n",
        "print(\"Classification Report (Best Model):\\n\", classification_report(y_valid, y_pred_best))\n"
      ],
      "metadata": {
        "colab": {
          "base_uri": "https://localhost:8080/"
        },
        "id": "QvjcsXEzKz_3",
        "outputId": "8a1a63a9-e2af-4df9-a37c-ff12698db211"
      },
      "execution_count": null,
      "outputs": [
        {
          "output_type": "stream",
          "name": "stdout",
          "text": [
            "Accuracy with best parameters:  0.795072638414675\n",
            "Classification Report (Best Model):\n",
            "               precision    recall  f1-score   support\n",
            "\n",
            "          -1       0.83      0.83      0.83      4519\n",
            "           0       0.77      0.77      0.77      3596\n",
            "           1       0.77      0.82      0.80      4230\n",
            "           2       0.80      0.72      0.76      2592\n",
            "\n",
            "    accuracy                           0.80     14937\n",
            "   macro avg       0.79      0.79      0.79     14937\n",
            "weighted avg       0.80      0.80      0.79     14937\n",
            "\n"
          ]
        }
      ]
    },
    {
      "cell_type": "code",
      "source": [
        "# Confusion Matrix Visualization after GrdiSearchCV\n",
        "conf_matrix = confusion_matrix(y_valid, y_pred_best)\n",
        "plt.figure(figsize=(6, 4))\n",
        "sns.heatmap(conf_matrix, annot=True, fmt='d', cmap='Blues', xticklabels=['Negative', 'Neutral', 'Positive', 'Irrelevant'], yticklabels=['Negative', 'Neutral', 'Positive', 'Irrelevant'])\n",
        "plt.xlabel('Predicted')\n",
        "plt.ylabel('Actual')\n",
        "plt.title('Confusion Matrix')\n",
        "plt.show()"
      ],
      "metadata": {
        "colab": {
          "base_uri": "https://localhost:8080/",
          "height": 410
        },
        "id": "14hcqTiaubFc",
        "outputId": "8086a36f-807d-47c5-b21a-4d38d8bf50f2"
      },
      "execution_count": null,
      "outputs": [
        {
          "output_type": "display_data",
          "data": {
            "text/plain": [
              "<Figure size 600x400 with 2 Axes>"
            ],
            "image/png": "[encoded data removed]"
          },
          "metadata": {}
        }
      ]
    },
    {
      "cell_type": "code",
      "source": [
        "coefficients = best_lr_model.coef_[0]\n",
        "feature_names = vectorizer.get_feature_names_out()\n",
        "sorted_idx = coefficients.argsort()\n",
        "\n",
        "# Top 10 positive and negative words\n",
        "top_positive_words = [feature_names[i] for i in sorted_idx[-10:]]\n",
        "top_negative_words = [feature_names[i] for i in sorted_idx[:10]]\n",
        "\n",
        "plt.figure(figsize=(10, 5))\n",
        "plt.barh(top_positive_words, coefficients[sorted_idx[-10:]], color='green', label='Positive')\n",
        "plt.barh(top_negative_words, coefficients[sorted_idx[:10]], color='red', label='Negative')\n",
        "plt.xlabel('Coefficient Value')\n",
        "plt.title('Top Positive and Negative Words in Sentiment')\n",
        "plt.show()\n"
      ],
      "metadata": {
        "colab": {
          "base_uri": "https://localhost:8080/",
          "height": 428
        },
        "id": "q7zeDS83uCB7",
        "outputId": "6f56f2ea-f9d6-4d30-d26b-0dc28cc011c6"
      },
      "execution_count": null,
      "outputs": [
        {
          "output_type": "display_data",
          "data": {
            "text/plain": [
              "<Figure size 1000x500 with 1 Axes>"
            ],
            "image/png": "[encoded data removed]"
          },
          "metadata": {}
        }
      ]
    },
    {
      "cell_type": "code",
      "source": [
        "# Save the preprocessed val_df for download\n",
        "val_df.to_csv('new_twitter_validation.csv', index=False)"
      ],
      "metadata": {
        "id": "Y0F-93p9uKG4"
      },
      "execution_count": null,
      "outputs": []
    },
    {
      "cell_type": "markdown",
      "source": [
        "Given below is a user prompt where the user will copy-paste the tokenized_tweet from this file which will be visible in content panel (left side of the screen) called 'new_twitter_validation.csv'.\n",
        "\n",
        "Guide:\n",
        "\n",
        "1. open the new validation file.\n",
        "\n",
        "2. it will be visible on the right side of the screen.\n",
        "\n",
        "3. select a tweet and copy it as it is and paste it as the 'user_input' after running the cell.\n",
        "\n",
        "4. it will predict a sentiemnt usning the hyperparameter tuned model i.e. best_lr_model.\n",
        "5. check the predicted sentiment against the actual sentiment in the currently opened file (right panel)."
      ],
      "metadata": {
        "id": "SjYE7TYn-bk6"
      }
    },
    {
      "cell_type": "code",
      "source": [
        "while True:\n",
        "    user_input = input(\"Enter a tweet from the validation set for sentiment prediction: \\n\")\n",
        "    user_input_tfidf = vectorizer.transform([user_input])\n",
        "\n",
        "    # Predicting sentiment using the trained model\n",
        "    predicted_sentiment = best_lr_model.predict(user_input_tfidf)\n",
        "\n",
        "    # Map back the prediction to sentiment labels\n",
        "    sentiment_map = {1: 'Positive', 0: 'Neutral', -1: 'Negative', 2: 'Irrelevant'}\n",
        "    predicted_label = sentiment_map.get(predicted_sentiment[0], 'Unknown')\n",
        "\n",
        "    print(f\"The predicted sentiment for the entered tweet is: {predicted_label}\")\n",
        "    continue_input = input(\"Do you want to enter another tweet? (yes/no): \")\n",
        "    if continue_input.lower() != 'yes':\n",
        "        print(\"Goodbye!\")\n",
        "        break\n"
      ],
      "metadata": {
        "colab": {
          "base_uri": "https://localhost:8080/"
        },
        "id": "Gad5EtP4wwMv",
        "outputId": "8c62197c-d74e-4a58-d9de-57e41a1ed8fa"
      },
      "execution_count": null,
      "outputs": [
        {
          "output_type": "stream",
          "name": "stdout",
          "text": [
            "Enter a tweet from the validation set for sentiment prediction: \n",
            "Hi @EAHelp I’ve had Madeleine McCann in my cellar for the past 13 years and the little sneaky thing just escaped whilst I was loading up some fifa points, she took my card and I’m having to use my paypal account but it isn’t working, can you help me resolve it please?\n",
            "The predicted sentiment for the entered tweet is: Negative\n",
            "Do you want to enter another tweet? (yes/no): yes\n",
            "Enter a tweet from the validation set for sentiment prediction: \n",
            "Now the President is slapping Americans in the face that he really did commit an unlawful act after his acquittal! From Discover on Google vanityfair.com/news/2020/02/t…\t\n",
            "The predicted sentiment for the entered tweet is: Neutral\n",
            "Do you want to enter another tweet? (yes/no): yes\n",
            "Enter a tweet from the validation set for sentiment prediction: \n",
            "I’m addicted to call of duty mobile😅\n",
            "The predicted sentiment for the entered tweet is: Positive\n",
            "Do you want to enter another tweet? (yes/no): yes\n",
            "Enter a tweet from the validation set for sentiment prediction: \n",
            "Dumb Lucky☘️ (Fortnite Montage) youtu.be/psWjTNkBQbE via @YouTube\n",
            "The predicted sentiment for the entered tweet is: Irrelevant\n",
            "Do you want to enter another tweet? (yes/no): yes\n",
            "Enter a tweet from the validation set for sentiment prediction: \n",
            "I'm excited to announce our partnership with @VolvicDE. The cooperation with Volvic is an exclamation mark in German esport. At the same time, it's an award for our success in @LeagueOfLegends and the tremendous efforts of our team and staff behind the scenes. Thank you! pic.twitter.com/c6eLixSdZK\n",
            "The predicted sentiment for the entered tweet is: Neutral\n",
            "Do you want to enter another tweet? (yes/no): yes\n",
            "Enter a tweet from the validation set for sentiment prediction: \n",
            "@PlayApex servers are whack 🙃🤷🏻‍♂️ #ApexLegends pic.twitter.com/A1pzbN3jg7\n",
            "The predicted sentiment for the entered tweet is: Negative\n",
            "Do you want to enter another tweet? (yes/no): yes\n",
            "Enter a tweet from the validation set for sentiment prediction: \n",
            "I can get on the phone with @Verizon but I can't get on the phone with @MD_Labor you have to be kidding me pic.twitter.com/AKEm9uWZ2q\n",
            "The predicted sentiment for the entered tweet is: Negative\n",
            "Do you want to enter another tweet? (yes/no): no\n",
            "Goodbye!\n"
          ]
        }
      ]
    },
    {
      "cell_type": "markdown",
      "source": [
        "In the last step, while prompting it was observed that out of 7 carefully selected tweets 1 tweet prediction was inaccurate. (confusing tweets were deliberately chosen to look for inaccurate prediction.)\n"
      ],
      "metadata": {
        "id": "4_AgQyCCDYg4"
      }
    },
    {
      "cell_type": "code",
      "source": [],
      "metadata": {
        "id": "-2iJSbDSxxtN"
      },
      "execution_count": null,
      "outputs": []
    }
  ]
}